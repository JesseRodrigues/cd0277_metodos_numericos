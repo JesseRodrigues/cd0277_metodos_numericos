{
 "cells": [
  {
   "cell_type": "markdown",
   "metadata": {},
   "source": [
    "# Exercícios para treinar a Parte 1\n",
    "\n",
    "Jeanlex Soares de Sousa (jeanlex@fisica.ufc.br) <br>\n",
    "Departamento de Física <br>\n",
    "Universidade Federal do Ceará"
   ]
  },
  {
   "cell_type": "markdown",
   "metadata": {},
   "source": [
    "1 - Escreva uma função para plotar os gráficos e as derivadas analíticas de:\n",
    "\n",
    "* $y = x^3 + x^2 - 10 x + 10, ~x \\in [-5,5]$\n",
    "* $y = \\frac{\\sin x}{x}, ~x \\in [-50,50] $\n",
    "* $y = e^{-a x}\\sin x, ~x \\in [0,10], a \\in [0.5,1.0,2.0]$\n",
    "\n",
    "2 - Calcule numericamente as derivadas das funções acima usando as derivadas progressiva e central. Faça gráficos comparando os resultados obtidos com as derivadas exatas.\n",
    "\n",
    "3 - Escreva um código para calcular o erro nas derivadas em cada ponto $\\Delta_i = |f_{num}(x_i)- f_{exato}(x_i)|$ e o erro integrado $\\Delta_{tot} = \\sum_i \\Delta_i$. Faça um gráfico do erro integrado em função de $\\Delta x$ para cada uma das derivadas das funções do problema 1. Repita este cálculo para as derivadas progressiva e central. Discuta os resultados em função do truncamento na série de Taylor que deu origem a aproximação da derivada.\n",
    "\n",
    "4 - Escreva um código para calcular as integrais das funções acima para diferentes $\\Delta x$, e compare o resultado exato. Repita o problema 3, e faça um gráfico do erro da integração numérica em função de $\\Delta x$, e compare com a ordem do truncamento na série de Taylor."
   ]
  },
  {
   "cell_type": "code",
   "execution_count": null,
   "metadata": {},
   "outputs": [],
   "source": []
  }
 ],
 "metadata": {
  "kernelspec": {
   "display_name": "Python 3",
   "language": "python",
   "name": "python3"
  },
  "language_info": {
   "codemirror_mode": {
    "name": "ipython",
    "version": 3
   },
   "file_extension": ".py",
   "mimetype": "text/x-python",
   "name": "python",
   "nbconvert_exporter": "python",
   "pygments_lexer": "ipython3",
   "version": "3.6.3"
  }
 },
 "nbformat": 4,
 "nbformat_minor": 2
}
