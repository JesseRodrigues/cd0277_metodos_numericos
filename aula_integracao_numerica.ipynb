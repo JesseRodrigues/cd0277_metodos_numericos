{
 "cells": [
  {
   "cell_type": "markdown",
   "metadata": {},
   "source": [
    "# Integração numérica de funções de uma variável\n",
    "\n",
    "Jeanlex Soares de Sousa (jeanlex@fisica.ufc.br) <br>\n",
    "Departamento de Física <br>\n",
    "Universidade Federal do Ceará\n"
   ]
  },
  {
   "cell_type": "markdown",
   "metadata": {},
   "source": [
    "## Introdução\n",
    "\n",
    "Em análise numérica, a integração numérica constitui um amplo conjunto de algorítmos para calcular o valor numérico de uma integral definida. Por extensão, este termo também é usado para descrever a solução numérica de equaçoes diferenciais. \n",
    "\n",
    "$$\\int_a^{b} f(x)~dx = c $$"
   ]
  },
  {
   "cell_type": "markdown",
   "metadata": {},
   "source": [
    "Assuma por exemplo, a função $f(x) = 3 x^2 - x + 2$. A integral desta solução entre um intervalo $[a,b]$ possui solução analítica simples:\n",
    "\n",
    "$$\\int_a^{b} (3 x^2 - x +1)~dx = \\left(b^3 - \\frac{b^2}{2} +2 b\\right) - \\left( a^3 - \\frac{a^2}{2} + 2 a \\right) $$\n",
    "\n",
    "De forma simplificada, uma integral nos fornece a área abaixo de uma função em um intervalo específico. Veja o coódigo para representar a itegral desta função abaixo:"
   ]
  },
  {
   "cell_type": "code",
   "execution_count": 1,
   "metadata": {},
   "outputs": [],
   "source": [
    "# Carregando bibliotecas numérica e gráfica\n",
    "%matplotlib inline\n",
    "import matplotlib.pyplot as plt\n",
    "import numpy as np\n",
    "from matplotlib.patches import Polygon\n",
    "\n",
    "# Carrega a biblioteca de widgets\n",
    "from ipywidgets import interact\n",
    "import ipywidgets as widgets"
   ]
  },
  {
   "cell_type": "code",
   "execution_count": 2,
   "metadata": {},
   "outputs": [],
   "source": [
    "# -----------------------------------------\n",
    "# definição da função a ser integrada\n",
    "# -----------------------------------------\n",
    "def f(x):\n",
    "    return 3 * (x ** 2) - x + 2\n",
    "\n",
    "# -----------------------------------------\n",
    "# função para cálculo analítico da integral\n",
    "# -----------------------------------------\n",
    "def calc_integral(a, b):\n",
    "    calc_integral = (b**3 - 0.5*(b**2) + 2*b) - (a**3 - 0.5*(a**2) + 2*a)\n",
    "    return calc_integral\n",
    "\n",
    "# -----------------------------------------\n",
    "# definição de função para plotagem do gráfico\n",
    "# -----------------------------------------\n",
    "def plot_integ_definition(a,b):\n",
    "\n",
    "    # Define intervalo e número de pontos de plotagem\n",
    "    x1, x2 = 0, 8\n",
    "    N = 50\n",
    "\n",
    "    # cria lista com abscissa e ordenada\n",
    "    x = np.linspace(x1,x2,N)\n",
    "    y = f(x)\n",
    "\n",
    "    # Plotagem da função\n",
    "    fig, ax = plt.subplots()\n",
    "    plt.plot(x, y, 'b', linewidth=2)\n",
    "\n",
    "    # marca área embaixo da função\n",
    "    ix = np.linspace(a, b, N)\n",
    "    iy = f(ix)\n",
    "    verts = [(a, 0)] + list(zip(ix, iy)) + [(b, 0)]\n",
    "    poly = Polygon(verts, facecolor='0.9', edgecolor='0.5')\n",
    "    ax.add_patch(poly)\n",
    "\n",
    "    # plota equação no gráfico\n",
    "    plt.text(0.5 * (a + b), 120, \n",
    "         \"$\\int_a^b f(x)\\mathrm{d}x$\",\n",
    "         horizontalalignment='center', fontsize=20)\n",
    "\n",
    "    plt.show()\n",
    "    \n",
    "    print(\"Integral = %5.3f\" % (calc_integral(a,b)))\n",
    "\n"
   ]
  },
  {
   "cell_type": "code",
   "execution_count": 3,
   "metadata": {},
   "outputs": [
    {
     "data": {
      "application/vnd.jupyter.widget-view+json": {
       "model_id": "4fc25b929ad147b3962118365bd77d6b",
       "version_major": 2,
       "version_minor": 0
      },
      "text/html": [
       "<p>Failed to display Jupyter Widget of type <code>interactive</code>.</p>\n",
       "<p>\n",
       "  If you're reading this message in Jupyter Notebook or JupyterLab, it may mean\n",
       "  that the widgets JavaScript is still loading. If this message persists, it\n",
       "  likely means that the widgets JavaScript library is either not installed or\n",
       "  not enabled. See the <a href=\"https://ipywidgets.readthedocs.io/en/stable/user_install.html\">Jupyter\n",
       "  Widgets Documentation</a> for setup instructions.\n",
       "</p>\n",
       "<p>\n",
       "  If you're reading this message in another notebook frontend (for example, a static\n",
       "  rendering on GitHub or <a href=\"https://nbviewer.jupyter.org/\">NBViewer</a>),\n",
       "  it may mean that your frontend doesn't currently support widgets.\n",
       "</p>\n"
      ],
      "text/plain": [
       "interactive(children=(FloatSlider(value=2.0, description='$a$ = ', max=3.0, step=0.25), FloatSlider(value=5.0, description='$b$ = ', max=8.0, min=3.0, step=0.25), Output()), _dom_classes=('widget-interact',))"
      ]
     },
     "metadata": {},
     "output_type": "display_data"
    }
   ],
   "source": [
    "# -----------------------------------------    \n",
    "# widget de demonstração\n",
    "# -----------------------------------------\n",
    "interact(plot_integ_definition, \n",
    "             a=widgets.FloatSlider(min=0,max=3,step=0.25,value=2.0,\n",
    "                                description = '$a$ = '),\n",
    "             b=widgets.FloatSlider(min=3,max=8,step=0.25,value=5.0,\n",
    "                                description = '$b$ = ')\n",
    "        );        \n"
   ]
  },
  {
   "cell_type": "markdown",
   "metadata": {},
   "source": [
    "## Integração numérica"
   ]
  },
  {
   "cell_type": "markdown",
   "metadata": {},
   "source": [
    "Numericamente, a natureza discreta das funções exige que façamos algumas aproximações para conseguirmos calcular a integral. Uma possibilidade é assumir que cada ponto do gráfico seja considerado um retângulo de largura $\\Delta x$. Veja abaixo de duas formas de considerar a área abaixo de cada ponto:"
   ]
  },
  {
   "cell_type": "code",
   "execution_count": 4,
   "metadata": {},
   "outputs": [
    {
     "data": {
      "application/vnd.jupyter.widget-view+json": {
       "model_id": "a2ed793fd8944394bc103ad687a05d1c",
       "version_major": 2,
       "version_minor": 0
      },
      "text/html": [
       "<p>Failed to display Jupyter Widget of type <code>interactive</code>.</p>\n",
       "<p>\n",
       "  If you're reading this message in Jupyter Notebook or JupyterLab, it may mean\n",
       "  that the widgets JavaScript is still loading. If this message persists, it\n",
       "  likely means that the widgets JavaScript library is either not installed or\n",
       "  not enabled. See the <a href=\"https://ipywidgets.readthedocs.io/en/stable/user_install.html\">Jupyter\n",
       "  Widgets Documentation</a> for setup instructions.\n",
       "</p>\n",
       "<p>\n",
       "  If you're reading this message in another notebook frontend (for example, a static\n",
       "  rendering on GitHub or <a href=\"https://nbviewer.jupyter.org/\">NBViewer</a>),\n",
       "  it may mean that your frontend doesn't currently support widgets.\n",
       "</p>\n"
      ],
      "text/plain": [
       "interactive(children=(IntSlider(value=20, description='$N$ = ', max=40, min=10, step=5), Output()), _dom_classes=('widget-interact',))"
      ]
     },
     "metadata": {},
     "output_type": "display_data"
    }
   ],
   "source": [
    "# -----------------------------------------\n",
    "# definição de função para plotagem do gráfico\n",
    "# -----------------------------------------\n",
    "\n",
    "def plot_numinteg_def(N):\n",
    "\n",
    "    # Define intervalo e número de pontos de plotagem\n",
    "    x1, x2 = 0, 5\n",
    "\n",
    "    # cria lista com abscissa e ordenada\n",
    "    x = np.linspace(x1,x2,N)\n",
    "    y = f(x)\n",
    "    dx = x[1]-x[0]\n",
    "    \n",
    "    # Plotagem da função\n",
    "    fig, ax = plt.subplots(1,2,figsize=(11, 4))\n",
    "    ax[0].plot(x, y, 'bo-', linewidth=2)\n",
    "    for i in range(0,N):\n",
    "        verts = [(x[i]-dx/2, 0)] + [(x[i]-dx/2,y[i])] + [(x[i]+dx/2,y[i])] + [(x[i]+dx/2, 0)]\n",
    "        poly = Polygon(verts, facecolor='r', edgecolor='k')\n",
    "        ax[0].add_patch(poly)\n",
    "    \n",
    "    ax[0].set_title('retângulo')\n",
    "    \n",
    "    ax[1].plot(x, y, 'bo-', linewidth=2)\n",
    "    \n",
    "    for i in range(0,N-1):\n",
    "        verts = [(x[i], 0)] + [(x[i],y[i])] + [(x[i+1],y[i+1])] + [(x[i+1], 0)]\n",
    "        poly = Polygon(verts, facecolor='r', edgecolor='k')\n",
    "        ax[1].add_patch(poly)\n",
    "        \n",
    "    ax[1].set_title('trapézio')\n",
    "    \n",
    "    plt.show()\n",
    "    \n",
    "# -----------------------------------------    \n",
    "# widget de demonstração\n",
    "# -----------------------------------------\n",
    "\n",
    "interact(plot_numinteg_def, \n",
    "             N=widgets.IntSlider(min=10,max=40,step=5,value=20,\n",
    "                                description = '$N$ = ')\n",
    "        );      \n",
    "    "
   ]
  },
  {
   "cell_type": "markdown",
   "metadata": {},
   "source": [
    "Nas demonstrações acima, é perceptível que o erro diminui à medida que o número $N$ de pontos de plotagem aumenta. Mas também é possível observar que a segunda aproximação fornece um resultado muito melhor que o primeiro mesmo para pequenos valores de $N$. Esta segunda aproximação é conhecida como a **regra do trapézio de Simpson** e constitui o método mais comum de integração numérica. Existem muitos outros métodos de integração numérica, mas para este curso básico, o método de Simpson é suficiente."
   ]
  },
  {
   "cell_type": "markdown",
   "metadata": {},
   "source": [
    "Considerando-se as formas acima, a área abaixo das curvas podem ser calculadas usando-se:\n",
    "\n",
    "$$ I = \\sum_{i=1}^N f(x_i) \\Delta x $$\n",
    "\n",
    "ou\n",
    "\n",
    "$$ I = \\sum_{i=1}^N f(x_i) \\Delta x - \\frac{\\Delta_x}{2}\\left[f(x_1)+f(x_N)\\right] $$\n",
    "\n",
    "ou \n",
    "\n",
    "$$I = \\sum_{i=1}^{N-1} \\frac{f(x_i)+f(x_{i+1})}{2} \\Delta x $$\n",
    "\n"
   ]
  },
  {
   "cell_type": "markdown",
   "metadata": {},
   "source": [
    "O código para calcular uma integral numérica é bastante simples:"
   ]
  },
  {
   "cell_type": "code",
   "execution_count": 5,
   "metadata": {},
   "outputs": [],
   "source": [
    "# -----------------------------------------\n",
    "# função para realizar integração numérica\n",
    "# -----------------------------------------\n",
    "\n",
    "def integral(x,y,tipo=1):\n",
    "    # esta função serve para dx fixo\n",
    "\n",
    "    # determina o número N de pontos na função\n",
    "    N = len(x)\n",
    "    \n",
    "    # determina dx\n",
    "    dx = x[1] - x[0]\n",
    "    \n",
    "    if tipo==1:\n",
    "        \n",
    "        tmp = 0\n",
    "        for i in range(0,N):\n",
    "            tmp = tmp + y[i]*dx\n",
    "\n",
    "    elif tipo==2:\n",
    "        \n",
    "        tmp = 0\n",
    "        for i in range(0,N):\n",
    "            tmp = tmp + y[i]*dx\n",
    "        \n",
    "        tmp = tmp - (y[0]+y[N-1])*dx/2\n",
    "    \n",
    "    else:\n",
    "        \n",
    "        tmp = 0\n",
    "        for i in range(0,N-1):\n",
    "            tmp = tmp + (y[i]+y[i+1])*dx/2\n",
    "            \n",
    "    \n",
    "    return tmp\n",
    "    \n"
   ]
  },
  {
   "cell_type": "markdown",
   "metadata": {},
   "source": [
    "## Exemplo: $f(x) = 3 x^2 - x + 2$"
   ]
  },
  {
   "cell_type": "markdown",
   "metadata": {},
   "source": [
    "Compare a abaixo as integrais exata e numérica usando diferentes valores de N usando os métodos descritos acima:"
   ]
  },
  {
   "cell_type": "code",
   "execution_count": 16,
   "metadata": {},
   "outputs": [
    {
     "name": "stdout",
     "output_type": "stream",
     "text": [
      "\n",
      "N = 10\n",
      "Método 1: Integral = 143.827, Erro = 21.327\n",
      "Método 2: Integral = 123.272, Erro = 0.772\n",
      "Método 3: Integral = 123.272, Erro = 0.772\n",
      "\n",
      "N = 50\n",
      "Método 1: Integral = 126.302, Erro = 3.802\n",
      "Método 2: Integral = 122.526, Erro = 0.026\n",
      "Método 3: Integral = 122.526, Erro = 0.026\n",
      "\n",
      "N = 100\n",
      "Método 1: Integral = 124.375, Erro = 1.875\n",
      "Método 2: Integral = 122.506, Erro = 0.006\n",
      "Método 3: Integral = 122.506, Erro = 0.006\n"
     ]
    }
   ],
   "source": [
    "# Define intervalo e número de pontos de plotagem\n",
    "x1, x2 = 0, 5\n",
    "\n",
    "# calculo exato da integral\n",
    "int_exata = calc_integral(x1,x2)\n",
    "\n",
    "for i in [10,50,100]:\n",
    "    \n",
    "    print('')\n",
    "    print('N = %d' % i)\n",
    "    \n",
    "    for j in [1,2,3]:\n",
    "        \n",
    "        x = np.linspace(x1,x2,i)\n",
    "        y = f(x)\n",
    "        int_num = integral(x,y,j)\n",
    "        erro = np.abs(int_num-int_exata)\n",
    "        \n",
    "        print('Método %d: Integral = %5.3f, Erro = %5.3f' % (j,int_num,erro))\n",
    "        \n",
    "\n",
    "    \n"
   ]
  },
  {
   "cell_type": "code",
   "execution_count": null,
   "metadata": {},
   "outputs": [],
   "source": []
  }
 ],
 "metadata": {
  "kernelspec": {
   "display_name": "Python 3",
   "language": "python",
   "name": "python3"
  },
  "language_info": {
   "codemirror_mode": {
    "name": "ipython",
    "version": 3
   },
   "file_extension": ".py",
   "mimetype": "text/x-python",
   "name": "python",
   "nbconvert_exporter": "python",
   "pygments_lexer": "ipython3",
   "version": "3.6.3"
  }
 },
 "nbformat": 4,
 "nbformat_minor": 2
}
