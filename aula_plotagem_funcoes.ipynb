{
 "cells": [
  {
   "cell_type": "markdown",
   "metadata": {
    "slideshow": {
     "slide_type": "slide"
    }
   },
   "source": [
    "# Gráficos em uma dimensão\n",
    "\n",
    "Jeanlex Soares de Sousa (jeanlex@fisica.ufc.br) <br>\n",
    "Departamento de Física <br>\n",
    "Universidade Federal do Ceará\n",
    "\n"
   ]
  },
  {
   "cell_type": "markdown",
   "metadata": {
    "slideshow": {
     "slide_type": "slide"
    }
   },
   "source": [
    "## Introdução\n",
    "\n",
    "O método geral de plotar gráficos matemáticos no computador é idêntico ao método analítico. Se desejarmos plotar uma determinada função y = f(x), seleciona-se um número pré-estabelecido $N$ de valores da abcissa $x_i$ em um intervalo [$x_{min},x_{max}$], calcula-se sua ordenada $y_i = f(x_i)$, e constrói-se uma tabela de dados $(x_i,y_i)$. Em seguida, basta representar os pontos $(x_i,y_i)$ em  um eixo cartesiano, ligando pontos vizinhos por retas.\n",
    "\n",
    "Veja abaixo o exemplo da função $y = x^2$ para vários valores de x variando no intervalo [-1,1], onde foram calculados 8 pontos regularmente distribuídos, incluindo as extremidades do intervalo:\n",
    "\n"
   ]
  },
  {
   "cell_type": "code",
   "execution_count": 2,
   "metadata": {},
   "outputs": [],
   "source": [
    "# lista dos pontos x_i\n",
    "x = [-1.0, -0.714, -0.428, -0.143, +0.143, +0.428, +0.714, +1.0]\n",
    "\n",
    "# lista dos pontos y(x) = x_i**2\n",
    "y = [+1.0, +0.510, +0.184, +0.020, +0.020, +0.184, +0.510, +1.0]\n"
   ]
  },
  {
   "cell_type": "markdown",
   "metadata": {},
   "source": [
    "Como os pontos estão regularmente distribuídos, temos a separação $\\Delta x$ entre quaisquer pontos adjacentes $x_i$ e $x_{i+1}$ é dada por:\n",
    "\n",
    "$$ \\Delta x = \\frac{x_{max}-x_{min}}{N-1} $$\n",
    "\n",
    "Desta forma, todos os pontos $x_i$ podem ser gerados pela seguinte expressão:\n",
    "\n",
    "$$ x_i = x_{min} + (i-1)\\Delta x $$\n",
    "\n",
    "O uso do computador facilita enormemente calcular os pontos da tabela $(x_i,y_i)$, onde $i=1,2,...,N$. Primeiro porque os computadores modernos (até mesmos celulares) conseguem executar operações matemáticas muito mais rápido e em maior quantidade que qualquer ser humano. Segundo, porque todas as linguagens de programação possuem comandos para automatizar a execução destes cálculos de forma muito simples.\n",
    "\n",
    "Antes de começar, precisaremos carregar as bibliotecas numpy e matplotlib.\n"
   ]
  },
  {
   "cell_type": "code",
   "execution_count": 1,
   "metadata": {},
   "outputs": [],
   "source": [
    "# Carregando bibliotecas de cálculo e plotagem numérica.\n",
    "\n",
    "%matplotlib inline\n",
    "import matplotlib.pyplot as plt\n",
    "import numpy as np\n"
   ]
  },
  {
   "cell_type": "markdown",
   "metadata": {},
   "source": [
    "### Exemplo 1: $y = x^2$"
   ]
  },
  {
   "cell_type": "markdown",
   "metadata": {},
   "source": [
    "Neste exemplo, vamos plotar a função $y = x^2$ no intervalo fechado $x \\in [-1,1]$. Vamos explorar três casos diferentes de N = 8, 50, 100. Inicialmente, vamos definir o intervalor de plotagem:\n"
   ]
  },
  {
   "cell_type": "code",
   "execution_count": 50,
   "metadata": {},
   "outputs": [],
   "source": [
    "x1 = -1\n",
    "x2 = 1"
   ]
  },
  {
   "cell_type": "markdown",
   "metadata": {},
   "source": [
    "#### Caso 1.1: N = 8"
   ]
  },
  {
   "cell_type": "markdown",
   "metadata": {},
   "source": [
    "O código abaixo mostra como criar duas listas: uma para armazenar as abcissas $x_i$, e outra para armazenar as ordenadas $y_i$. O código também mostra como usar loops explícitos (tipo FOR) para calcular todos os elementos das listas x e y. "
   ]
  },
  {
   "cell_type": "code",
   "execution_count": 51,
   "metadata": {},
   "outputs": [
    {
     "name": "stdout",
     "output_type": "stream",
     "text": [
      "i = 0 x = -1.000 y = 1.000\n",
      "i = 1 x = -0.714 y = 0.510\n",
      "i = 2 x = -0.429 y = 0.184\n",
      "i = 3 x = -0.143 y = 0.020\n",
      "i = 4 x = 0.143 y = 0.020\n",
      "i = 5 x = 0.429 y = 0.184\n",
      "i = 6 x = 0.714 y = 0.510\n",
      "i = 7 x = 1.000 y = 1.000\n"
     ]
    }
   ],
   "source": [
    "# define o número pontos no intervalos\n",
    "N = 8\n",
    "\n",
    "# calcula a separação entre os pontos\n",
    "dx = (x2-x1)/(N-1)\n",
    "\n",
    "# cria uma lista de tamanho N com todos os elementos zerados\n",
    "# para armazenar x[i]\n",
    "x = np.zeros(N)\n",
    "\n",
    "# cria uma lista de tamanho N com todos os elementos zerados\n",
    "# para armazenar y[i]\n",
    "y = np.zeros(N)\n",
    "\n",
    "# Preenchimento de todos os elementos da lista usando um loop FOR e a função range\n",
    "for i in range(0,N):\n",
    "    x[i] = x1 + i*dx\n",
    "    y[i] = x[i]**2\n",
    "    print(\"i = %i x = %5.3f y = %5.3f\" % (i,x[i],y[i]))\n",
    "    \n"
   ]
  },
  {
   "cell_type": "markdown",
   "metadata": {},
   "source": [
    "Para plotar o gráfico, simplesmente passamos as listas x e y para uma função da biblioteca matplotlib e ela se encarrega de plotar os dados. "
   ]
  },
  {
   "cell_type": "code",
   "execution_count": 52,
   "metadata": {},
   "outputs": [
    {
     "data": {
      "image/png": "[encoded data removed]",
      "text/plain": [
       "<matplotlib.figure.Figure at 0x10ff1c240>"
      ]
     },
     "metadata": {},
     "output_type": "display_data"
    }
   ],
   "source": [
    "# plotagem da função y = x^2 \n",
    "plt.plot(x,y, '-bo')\n",
    "plt.axis([-1, 1, 0, 1])\n",
    "plt.show()"
   ]
  },
  {
   "cell_type": "markdown",
   "metadata": {},
   "source": [
    "A parábola deve tocar o eixo x em x=0, e a curva acima não toca o eixo x. Este problema é simples de resolver. A tabela mostra que o o ponto x = 0 não foi calculado. Basta fazer N um número ímpar para que este ponto apareça na tabela. Repita os cálculos acima comparando a aparência dos gráficos para N = 8 e N = 9. \n",
    "\n",
    "Um outro aspecto importante é a a aparência reticula do gráfico acima. Sabe-se que a função $y = x^2$ é uma parabóla, que possui um formato arredondado. Vejamos o que acontece quando N = 50 e N = 100.\n",
    "\n"
   ]
  },
  {
   "cell_type": "markdown",
   "metadata": {},
   "source": [
    "#### Caso 1.2: N = 50\n",
    "    "
   ]
  },
  {
   "cell_type": "code",
   "execution_count": 23,
   "metadata": {},
   "outputs": [
    {
     "data": {
      "image/png": "[encoded data removed]",
      "text/plain": [
       "<matplotlib.figure.Figure at 0x10fd9d320>"
      ]
     },
     "metadata": {},
     "output_type": "display_data"
    }
   ],
   "source": [
    "# define o número pontos no intervalos\n",
    "N = 50\n",
    "\n",
    "# calcula a separação entre os pontos\n",
    "dx = (x2-x1)/(N-1)\n",
    "\n",
    "# cria uma lista de tamanho N com todos os elementos zerados\n",
    "# para armazenar x[i]\n",
    "x = np.zeros(N)\n",
    "\n",
    "# cria uma lista de tamanho N com todos os elementos zerados\n",
    "# para armazenar y[i]\n",
    "y = np.zeros(N)\n",
    "\n",
    "# Preenchimento de todos os elementos da lista usando um loop FOR e a função range\n",
    "# O comando print foi removido pois resulta em uma tabela muito grande para ser mostrada\n",
    "for i in range(0,N):\n",
    "    x[i] = x1 + i*dx\n",
    "    y[i] = x[i]**2\n",
    "#   print(\"i = %i x = %5.3f y = %5.3f\" % (i,x[i],y[i]))\n",
    "    \n",
    "# plotagem da função\n",
    "plt.plot(x,y, '-b')\n",
    "plt.axis([-1, 1, 0, 1])\n",
    "plt.show()    \n",
    "    "
   ]
  },
  {
   "cell_type": "markdown",
   "metadata": {},
   "source": [
    "#### Caso 1.3: N = 100"
   ]
  },
  {
   "cell_type": "code",
   "execution_count": 25,
   "metadata": {},
   "outputs": [
    {
     "data": {
      "image/png": "[encoded data removed]",
      "text/plain": [
       "<matplotlib.figure.Figure at 0x1080e7160>"
      ]
     },
     "metadata": {},
     "output_type": "display_data"
    }
   ],
   "source": [
    "# define o número pontos no intervalos\n",
    "N = 100\n",
    "\n",
    "# calcula a separação entre os pontos\n",
    "dx = (x2-x1)/(N-1)\n",
    "\n",
    "# cria uma lista de tamanho N com todos os elementos zerados\n",
    "# para armazenar x[i]\n",
    "x = np.zeros(N)\n",
    "\n",
    "# cria uma lista de tamanho N com todos os elementos zerados\n",
    "# para armazenar y[i]\n",
    "y = np.zeros(N)\n",
    "\n",
    "# Preenchimento de todos os elementos da lista usando um loop FOR e a função range\n",
    "# O comando print foi removido pois resulta em uma tabela muito grande para ser mostrada\n",
    "for i in range(0,N):\n",
    "    x[i] = x1 + i*dx\n",
    "    y[i] = x[i]**2\n",
    "#   print(\"i = %i x = %5.3f y = %5.3f\" % (i,x[i],y[i]))\n",
    "    \n",
    "# plotagem da função\n",
    "plt.plot(x,y, '-b')\n",
    "plt.axis([-1, 1, 0, 1])\n",
    "plt.show()    "
   ]
  },
  {
   "cell_type": "markdown",
   "metadata": {},
   "source": [
    "A aparência arredondada da parábola só fica evidente quando há um número razoável de pontos dentro do intervalo de plotagem. Por razoável, entende-se o número mínimo de pontos que revela a aparência parabólica da função. Este número de pontos é arbitrário, e depende do tipo de função. Por exemplo, para representar uma reta, são necessários apenas dois pontos. \n",
    "\n",
    "Para N = 50 e N = 100 o gráfico adquire a aparência esperada da parábola. Nota-se que não é possível discernir nenhum diferença visual entre estes dois casos. Isto indica que N = 50 é um número adequado de pontos para descrever a parábola. Usar o número maior de pontos resulta em um consumo desnecessário de memória RAM. \n",
    "\n",
    "\n",
    "\n",
    "\n",
    "\n"
   ]
  },
  {
   "cell_type": "markdown",
   "metadata": {},
   "source": [
    "#### Caso 1.4: Vetorização de loops 1"
   ]
  },
  {
   "cell_type": "markdown",
   "metadata": {},
   "source": [
    "Os casos acima mostraram, em linhas gerais, o procedimento padrão para plotar gráficos. Os passos são simples: \n",
    "(i) defina a função que você quer plotar,\n",
    "(ii) defina o intervalo de plotagem,\n",
    "(iii) defina um N adequado que represente bem a função escolhida,\n",
    "(iv) inicializa as listas dos dados x e y. \n",
    "(v) usar um loop FOR para preencher a tabela $(x_i,y_i)$,\n",
    "(vi) plotar a tabela $(x_i,y_i)$ em um eixo cartesiano.\n",
    "\n",
    "Neste exemplo, iremos aprender como tirar vantagem das funcionalidades avançadas do Python que executam a vetorização de loops. A vetorização permite escrever códigos mais compactos sem perder a clareza do código. Compare o exemplo abaixo com os exemplos 1.2 e 1.3.\n",
    "\n"
   ]
  },
  {
   "cell_type": "code",
   "execution_count": 29,
   "metadata": {},
   "outputs": [
    {
     "data": {
      "image/png": "[encoded data removed]",
      "text/plain": [
       "<matplotlib.figure.Figure at 0x10fcb8a58>"
      ]
     },
     "metadata": {},
     "output_type": "display_data"
    }
   ],
   "source": [
    "# define o número pontos no intervalos\n",
    "N = 100\n",
    "\n",
    "# calcula a separação entre os pontos\n",
    "dx = (x2-x1)/(N-1)\n",
    "\n",
    "# preenchimento vetorizado das listas x e y\n",
    "x = [x1 + i*dx for i in range(0,N)]\n",
    "y = [x[i]**2   for i in range(0,N)]\n",
    "\n",
    "# plotagem da função\n",
    "plt.plot(x,y, '-b')\n",
    "plt.axis([-1, 1, 0, 1])\n",
    "plt.show() \n"
   ]
  },
  {
   "cell_type": "markdown",
   "metadata": {},
   "source": [
    "#### Caso 1.5: Vetorização de loops 2"
   ]
  },
  {
   "cell_type": "code",
   "execution_count": 19,
   "metadata": {},
   "outputs": [
    {
     "data": {
      "image/png": "[encoded data removed]",
      "text/plain": [
       "<matplotlib.figure.Figure at 0x10fe5aba8>"
      ]
     },
     "metadata": {},
     "output_type": "display_data"
    }
   ],
   "source": [
    "# define o número pontos no intervalos\n",
    "N = 100\n",
    "\n",
    "# preenchimento vetorizado das listas x e y\n",
    "x = np.linspace(x1,x2,N)\n",
    "y = x**2\n",
    "\n",
    "# plotagem da função\n",
    "plt.plot(x,y, '-b')\n",
    "plt.axis([-1, 1, 0, 1])\n",
    "plt.show()\n",
    "\n"
   ]
  },
  {
   "cell_type": "code",
   "execution_count": 76,
   "metadata": {},
   "outputs": [],
   "source": [
    "# note a diferença entre as listas criadas pela biblioteca NUMPY acima\n",
    "# e as listas padrão do python\n",
    "\n",
    "xp = [-1.0, -0.714, -0.428, -0.143, +0.143, +0.428, +0.714, +1.0]\n"
   ]
  },
  {
   "cell_type": "code",
   "execution_count": 78,
   "metadata": {},
   "outputs": [
    {
     "ename": "TypeError",
     "evalue": "unsupported operand type(s) for ** or pow(): 'list' and 'int'",
     "output_type": "error",
     "traceback": [
      "\u001b[0;31m---------------------------------------------------------------------------\u001b[0m",
      "\u001b[0;31mTypeError\u001b[0m                                 Traceback (most recent call last)",
      "\u001b[0;32m<ipython-input-78-8bcaa628f81a>\u001b[0m in \u001b[0;36m<module>\u001b[0;34m()\u001b[0m\n\u001b[1;32m      2\u001b[0m \u001b[0;31m# operações de vetorização\u001b[0m\u001b[0;34m\u001b[0m\u001b[0;34m\u001b[0m\u001b[0m\n\u001b[1;32m      3\u001b[0m \u001b[0;34m\u001b[0m\u001b[0m\n\u001b[0;32m----> 4\u001b[0;31m \u001b[0myp1\u001b[0m \u001b[0;34m=\u001b[0m \u001b[0mxp\u001b[0m\u001b[0;34m**\u001b[0m\u001b[0;36m2\u001b[0m\u001b[0;34m\u001b[0m\u001b[0m\n\u001b[0m",
      "\u001b[0;31mTypeError\u001b[0m: unsupported operand type(s) for ** or pow(): 'list' and 'int'"
     ]
    }
   ],
   "source": [
    "# esta linha vai dar erro porque as listas padrão do python não permitem\n",
    "# operações de vetorização\n",
    "\n",
    "yp1 = xp**2\n"
   ]
  },
  {
   "cell_type": "code",
   "execution_count": 77,
   "metadata": {},
   "outputs": [],
   "source": [
    "# Esta linha não vai dar erro. Para realizar o cálculo acima, \n",
    "#é preciso executar um loop e calcular item por item\n",
    "\n",
    "yp2 = [xp[i]**2   for i in range(0,8)]\n"
   ]
  },
  {
   "cell_type": "markdown",
   "metadata": {},
   "source": [
    "### Exemplo 2: $y = \\sin(k x)$ "
   ]
  },
  {
   "cell_type": "markdown",
   "metadata": {},
   "source": [
    "Neste exemplo, vamos explorar a plotagem de funções oscilatórias usando o exemplo específico de $y = \\sin(k x)$. Como veremos a seguir, o número de pontos N é fundamental para descrever bem a função. Mas aqui o que importa mesmo é o número de pontos por comprimento de onda.\n",
    "\n",
    "Sabe-se que a função $\\sin(k x)$ tem periodicidade de $2\\pi$. Normalmente é importante plotar funções oscilatórias em um intervalo contendo vários comprimento de ondas. Neste exemplo, assume-se que $k x \\in [0,10\\pi]$, ou seja, a função será plotada em um intervalo que corresponde a cinco comprimentos de onda. \n",
    "\n",
    "O comprimento de onda $\\lambda$ está relacionado com a o número de onda $k$ pela relação:\n",
    "\n",
    "$$ k = \\frac{2\\pi}{\\lambda} $$\n",
    "\n",
    "Note que o intervalo de plotagem mencionado acima $k x \\in [0,10\\pi]$ foi dado em termos de $k x$. Substituindo-se $k$ nesta expressão, obtém-se o intervalo de plotagem em termos de $x$.\n",
    "\n",
    "$$ x \\in [0,\\frac{10\\pi}{k}] \\rightarrow x \\in [0,5 \\lambda]$$\n",
    "\n",
    "\n",
    "\n",
    "\n"
   ]
  },
  {
   "cell_type": "markdown",
   "metadata": {},
   "source": [
    "Note agora que, o intervalo de plotagem depende do número de comprimentos de onda no qual você quer representar sua função. Veja abaixo um código para plotar a função $y=\\sin(k x)$."
   ]
  },
  {
   "cell_type": "code",
   "execution_count": 21,
   "metadata": {},
   "outputs": [
    {
     "data": {
      "image/png": "[encoded data removed]",
      "text/plain": [
       "<matplotlib.figure.Figure at 0x10f9d5400>"
      ]
     },
     "metadata": {},
     "output_type": "display_data"
    }
   ],
   "source": [
    "# define o comprimento de onda\n",
    "lamb = 2\n",
    "k = 2*np.pi/lamb\n",
    "\n",
    "# número de comprimentos de onda você quer representar no gráfico\n",
    "Nl = 5\n",
    "\n",
    "# define o número pontos no intervalo\n",
    "N = 100\n",
    "\n",
    "# o intervalo de plotagem depende de lambda\n",
    "x1 = 0\n",
    "x2 = Nl*lamb\n",
    "\n",
    "# preenchimento vetorizado das listas x e y\n",
    "x = np.linspace(x1,x2,N)\n",
    "y = np.sin(k*x)\n",
    "\n",
    "# plotagem da função\n",
    "plt.plot(x,y, '-b')\n",
    "plt.axis([x1, x2, -1, 1])\n",
    "plt.show()\n"
   ]
  },
  {
   "cell_type": "markdown",
   "metadata": {},
   "source": [
    "$\\textbf{Sugestão}$: Repita o cálculo acima usando $N = 11$, $N = 21$. Veja a diferença brutal destes com o caso em que $N = 100$. Explique o que aconteceu em termos do número de pontos por comprimento de onda. "
   ]
  },
  {
   "cell_type": "markdown",
   "metadata": {},
   "source": [
    "### Exemplo 3: $y = \\log(x)$ "
   ]
  },
  {
   "cell_type": "markdown",
   "metadata": {},
   "source": [
    "Este exemplo discute uma classe de funções em que o espaçamento uniforme dos pontos $x_i$ pode deixar a função bem detalhada em alguns trechos, mas em outros não. O primeiro detalhe a ser percebido é que a função $log(x)$ só é bem definida para $x > 0$. Se fizermos $x_1 = 0$ no código abaixo, o código indicará o erro. Então faremos $x_1$ tão pequeno quanto se queira, desde que $x_1>0$. \n",
    "\n",
    "$\\textbf{Sugestão}$: Teste valores de $x_1$ ainda menores e veja o que acontece."
   ]
  },
  {
   "cell_type": "code",
   "execution_count": 9,
   "metadata": {},
   "outputs": [
    {
     "data": {
      "image/png": "[encoded data removed]",
      "text/plain": [
       "<matplotlib.figure.Figure at 0x10faeacc0>"
      ]
     },
     "metadata": {},
     "output_type": "display_data"
    }
   ],
   "source": [
    "# define o número pontos no intervalos\n",
    "N = 15\n",
    "\n",
    "# o intervalo de plotagem depende de lambda\n",
    "x1 = 0.001\n",
    "x2 = 1\n",
    "\n",
    "# preenchimento vetorizado das listas x e y\n",
    "x = np.linspace(x1,x2,N)\n",
    "y = np.log(x)\n",
    "\n",
    "# plotagem da função\n",
    "plt.plot(x,y, '-bo')\n",
    "plt.show()\n"
   ]
  },
  {
   "cell_type": "markdown",
   "metadata": {},
   "source": [
    "Note que o gráfico da função está pouco detalhada em $x\\in[0,1]$, e bastante detalhada para $x>1$. Lembre-se que a derivada de $\\log(x)$ é:\n",
    "\n",
    "$\\frac{d}{d x} \\log(x) = \\frac{1}{x}$\n",
    "\n",
    "Ou seja, para $x\\rightarrow 0$, a derivada da função tende ao infinito, enquanto para $x\\rightarrow \\infty$, a derivada tende a zero. Isto é um indicativo que nas regiões de derivadas muito altas (tendendo a $\\infty$) é preciso mais pontos que nas regiões com derivadas suaves. \n",
    "\n",
    "A saída é aumentar o número de pontos de forma que você encontre um detalhamento adequado da função na região $x\\rightarrow 0$. Contudo, a consequência é que o número de pontos da região que necessita de menos detalhamento também aumenta. O ideal é ter mais pontos onde é mais necessário para reduzir o consumo de memória. Embora este detalhe não faça muita diferença para problemas pequenos, em problemas grandes esta estratégia é crucial. \n",
    "\n",
    "A dificuldade é que ao distribuir-se mais pontos numa região que em outra, perde-se \n",
    "a conveniência do espaçamento homogêneo dos pontos, e simplicidade da função $\\textbf{np.linspace(x1,x2,N)}$.\n",
    "\n",
    "A estratégia é distribuir o espaçamento em progressão geométrica:\n",
    "\n",
    "$$\\frac{x_{i+1}}{x_i}=\\alpha$$\n",
    "$$x_{i+1} = x_1 \\alpha^i$$\n",
    "\n"
   ]
  },
  {
   "cell_type": "markdown",
   "metadata": {},
   "source": [
    "A razão $\\alpha$ que faz com que o intervalo de plotagem contendo $N$ pontos seja $x \\in [x_1,x_2]$ pode ser encontrada por:\n",
    "\n",
    "$$ \\alpha = \\left(\\frac{x_2}{x_1}\\right)^\\frac{1}{N-1}$$\n",
    "\n",
    "Observe o efeito desta distribuição não homogênea de pontos no código abaixo. São necessários apenas 15 a 20 pontos para representar bem a funcão $y = \\log(x)$ mesmo para $x\\rightarrow 0$."
   ]
  },
  {
   "cell_type": "code",
   "execution_count": 19,
   "metadata": {},
   "outputs": [
    {
     "data": {
      "image/png": "[encoded data removed]",
      "text/plain": [
       "<matplotlib.figure.Figure at 0x10fef48d0>"
      ]
     },
     "metadata": {},
     "output_type": "display_data"
    }
   ],
   "source": [
    "# define o número pontos no intervalos\n",
    "N = 15\n",
    "\n",
    "# o intervalo de plotagem depende de lambda\n",
    "x1 = 0.001\n",
    "x2 = 1\n",
    "\n",
    "# razão entre x[i+1]/x[i]\n",
    "alpha = (x2/x1)**(1/(N-1))\n",
    "\n",
    "# preenchimento vetorizado das listas x e y\n",
    "x = [x1*(alpha**i) for i in range(0,N)]\n",
    "y = np.log(x)\n",
    "\n",
    "# plotagem da função\n",
    "plt.plot(x,y, '-bo')\n",
    "plt.show()\n"
   ]
  },
  {
   "cell_type": "markdown",
   "metadata": {},
   "source": [
    "$\\textbf{Sugestão}$: Teste valores fixos $\\alpha$, em vez de determiná-lo matematicamente. Explique o que acontece para valores de $\\alpha < 1$ e $\\alpha >1$."
   ]
  },
  {
   "cell_type": "code",
   "execution_count": null,
   "metadata": {},
   "outputs": [],
   "source": []
  }
 ],
 "metadata": {
  "celltoolbar": "Raw Cell Format",
  "kernelspec": {
   "display_name": "Python 3",
   "language": "python",
   "name": "python3"
  },
  "language_info": {
   "codemirror_mode": {
    "name": "ipython",
    "version": 3
   },
   "file_extension": ".py",
   "mimetype": "text/x-python",
   "name": "python",
   "nbconvert_exporter": "python",
   "pygments_lexer": "ipython3",
   "version": "3.6.3"
  }
 },
 "nbformat": 4,
 "nbformat_minor": 2
}
